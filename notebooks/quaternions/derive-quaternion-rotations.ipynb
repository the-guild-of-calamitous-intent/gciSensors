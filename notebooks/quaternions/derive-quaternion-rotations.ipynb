{
 "cells": [
  {
   "cell_type": "markdown",
   "id": "96deb3b7-e1eb-4b56-a981-ff8c5725d6a9",
   "metadata": {},
   "source": [
    "# Deriving Quaternion Rotation Sequences\n",
    "\n",
    "To track the rotation sequence betweem a rotating body and a fixed reference frame you can use either Euler angles in a rotation matrix or you can use Quaternions. Quaternerions are generally preferred from a mathematical standpoint, but less intuitive to most people.\n",
    "\n",
    "## R321\n",
    "\n",
    "$$\n",
    "r^b = R_{321} \\cdot r^I = R_1(x) R_2(y) R_3(z) \\cdot r^I\n",
    "$$\n",
    "\n",
    "$$\n",
    "R321 =\n",
    "\\left[\\begin{matrix}\\cos{\\left(y \\right)} \\cos{\\left(z \\right)} & \\sin{\\left(z \\right)} \\cos{\\left(y \\right)} & - \\sin{\\left(y \\right)}\\\\\n",
    "\\sin{\\left(x \\right)} \\sin{\\left(y \\right)} \\cos{\\left(z \\right)} - \\sin{\\left(z \\right)} \\cos{\\left(x \\right)} & \\sin{\\left(x \\right)} \\sin{\\left(y \\right)} \\sin{\\left(z \\right)} + \\cos{\\left(x \\right)} \\cos{\\left(z \\right)} & \\sin{\\left(x \\right)} \\cos{\\left(y \\right)}\\\\\n",
    "\\sin{\\left(x \\right)} \\sin{\\left(z \\right)} + \\sin{\\left(y \\right)} \\cos{\\left(x \\right)} \\cos{\\left(z \\right)} & - \\sin{\\left(x \\right)} \\cos{\\left(z \\right)} + \\sin{\\left(y \\right)} \\sin{\\left(z \\right)} \\cos{\\left(x \\right)} & \\cos{\\left(x \\right)} \\cos{\\left(y \\right)}\\end{matrix}\\right]\n",
    "$$\n",
    "\n",
    "$$\n",
    "\\begin{align}\n",
    "yaw &= z = \\arctan(\\frac {R_{12}}{R_{11}}) \\\\\n",
    "pitch &= y = -\\sin(R_{13}) \\\\\n",
    "roll &= x = \\arctan(\\frac {R_{23}} {R_{33}})\n",
    "\\end{align}\n",
    "$$\n",
    "\n",
    "## Quaternions\n",
    "\n",
    "Individual rotations for roll, pitch and yaw:\n",
    "\n",
    "$$\n",
    "\\begin{align}\n",
    "q_x &= \\begin{bmatrix} \\cos \\frac {roll}{2} & \\sin \\frac {roll}{2} & 0 & 0 \\end{bmatrix} \\\\\n",
    "q_y &= \\begin{bmatrix} \\cos \\frac {pitch}{2} & 0 & \\sin \\frac {pitch}{2} & 0 \\end{bmatrix} \\\\\n",
    "q_z &= \\begin{bmatrix} \\cos \\frac {yaw}{2} & 0 & 0 & \\sin \\frac {yaw}{2} \\end{bmatrix}\n",
    "\\end{align}\n",
    "$$\n",
    "\n",
    "To compose the Aerospace sequence of roll, pitch, then yaw:\n",
    "\n",
    "$$\n",
    "q = q_z q_y q_x\n",
    "$$\n",
    "\n",
    "$$\n",
    "\\begin{array}{rcl}\n",
    "q_w &= \\cos\\frac{yaw}{2} \\cos\\frac{pitch}{2} \\cos\\frac{roll}{2} + \\sin\\frac{yaw}{2} \\sin\\frac{pitch}{2} \\sin\\frac{roll}{2} \\\\ && \\\\\n",
    "q_x &= \\cos\\frac{yaw}{2} \\cos\\frac{pitch}{2} \\sin\\frac{roll}{2} - \\sin\\frac{yaw}{2} \\sin\\frac{pitch}{2} \\cos\\frac{roll}{2} \\\\ && \\\\\n",
    "q_y &= \\cos\\frac{yaw}{2} \\sin\\frac{pitch}{2} \\cos\\frac{roll}{2} + \\sin\\frac{yaw}{2} \\cos\\frac{pitch}{2} \\sin\\frac{roll}{2} \\\\ && \\\\\n",
    "q_z &= \\sin\\frac{yaw}{2} \\cos\\frac{pitch}{2} \\cos\\frac{roll}{2} - \\cos\\frac{yaw}{2} \\sin\\frac{pitch}{2} \\sin\\frac{roll}{2}\n",
    "\\end{array}\n",
    "$$\n",
    "\n",
    "## References\n",
    "\n",
    "- [Euler Angles](https://academicflight.com/articles/kinematics/rotation-formalisms/euler-angles/)"
   ]
  },
  {
   "cell_type": "code",
   "execution_count": 1,
   "id": "23a0f120-e612-4877-a8c1-2ef179db3db2",
   "metadata": {},
   "outputs": [],
   "source": [
    "%load_ext autoreload\n",
    "%autoreload 2"
   ]
  },
  {
   "cell_type": "code",
   "execution_count": 2,
   "id": "20ea5d22-9369-4c0d-b89c-bdd2fe124cf2",
   "metadata": {},
   "outputs": [],
   "source": [
    "import sympy\n",
    "from sympy import symbols, simplify\n",
    "from sympy import latex\n",
    "from sympy import Matrix\n",
    "from sympy import cos, sin, atan2\n",
    "\n",
    "import numpy as np\n",
    "from numpy.testing import assert_allclose\n",
    "np.set_printoptions(precision=1)\n",
    "np.set_printoptions(suppress=True)\n",
    "from pyquat import Quaternion as pyquat"
   ]
  },
  {
   "cell_type": "code",
   "execution_count": 3,
   "id": "3c6f0e26-29d4-40c3-98e8-c98a75f90b11",
   "metadata": {},
   "outputs": [],
   "source": [
    "# quaternion: w,x,y,z\n",
    "# OR\n",
    "# x: roll\n",
    "# y: pitch\n",
    "# z: yaw\n",
    "w,x,y,z = symbols(\"w x y z\")"
   ]
  },
  {
   "cell_type": "code",
   "execution_count": 4,
   "id": "03eece68-c11d-420a-bb27-f6d8f4a57b33",
   "metadata": {},
   "outputs": [],
   "source": [
    "# rotate about z-axis\n",
    "Rz = np.array([\n",
    "    [cos(z), sin(z), 0],\n",
    "    [-sin(z), cos(z),0],\n",
    "    [0,0,1]\n",
    "])\n",
    "\n",
    "# rotate about y-axis\n",
    "Ry = np.array([\n",
    "    [cos(y), 0, -sin(y)],\n",
    "    [0,1,0],\n",
    "    [sin(y),0,cos(y)]\n",
    "])\n",
    "\n",
    "# rotate about the x-axis\n",
    "Rx = np.array([\n",
    "    [1,0,0],\n",
    "    [0,cos(x),sin(x)],\n",
    "    [0, -sin(x),cos(x)]\n",
    "])"
   ]
  },
  {
   "cell_type": "code",
   "execution_count": 5,
   "id": "42009952-bc6c-4fe9-9124-a0400f86df52",
   "metadata": {},
   "outputs": [
    {
     "data": {
      "text/latex": [
       "$\\displaystyle \\left[\\begin{matrix}\\cos{\\left(y \\right)} \\cos{\\left(z \\right)} & \\sin{\\left(z \\right)} \\cos{\\left(y \\right)} & - \\sin{\\left(y \\right)}\\\\\\sin{\\left(x \\right)} \\sin{\\left(y \\right)} \\cos{\\left(z \\right)} - \\sin{\\left(z \\right)} \\cos{\\left(x \\right)} & \\sin{\\left(x \\right)} \\sin{\\left(y \\right)} \\sin{\\left(z \\right)} + \\cos{\\left(x \\right)} \\cos{\\left(z \\right)} & \\sin{\\left(x \\right)} \\cos{\\left(y \\right)}\\\\\\sin{\\left(x \\right)} \\sin{\\left(z \\right)} + \\sin{\\left(y \\right)} \\cos{\\left(x \\right)} \\cos{\\left(z \\right)} & - \\sin{\\left(x \\right)} \\cos{\\left(z \\right)} + \\sin{\\left(y \\right)} \\sin{\\left(z \\right)} \\cos{\\left(x \\right)} & \\cos{\\left(x \\right)} \\cos{\\left(y \\right)}\\end{matrix}\\right]$"
      ],
      "text/plain": [
       "Matrix([\n",
       "[                       cos(y)*cos(z),                         sin(z)*cos(y),       -sin(y)],\n",
       "[sin(x)*sin(y)*cos(z) - sin(z)*cos(x),  sin(x)*sin(y)*sin(z) + cos(x)*cos(z), sin(x)*cos(y)],\n",
       "[sin(x)*sin(z) + sin(y)*cos(x)*cos(z), -sin(x)*cos(z) + sin(y)*sin(z)*cos(x), cos(x)*cos(y)]])"
      ]
     },
     "execution_count": 5,
     "metadata": {},
     "output_type": "execute_result"
    }
   ],
   "source": [
    "# Standard Aerospace rotation for\n",
    "# inertial to body transform\n",
    "R321 = Matrix(Rx @ Ry @ Rz)\n",
    "R321"
   ]
  },
  {
   "cell_type": "code",
   "execution_count": null,
   "id": "d8a45caf-edc1-4935-bdd1-5ac6c2882c34",
   "metadata": {},
   "outputs": [],
   "source": []
  },
  {
   "cell_type": "code",
   "execution_count": 6,
   "id": "1f3ca0b3-e92c-4597-a84d-ca75c2ff9489",
   "metadata": {},
   "outputs": [
    {
     "data": {
      "text/latex": [
       "$\\displaystyle \\left[\\begin{matrix}\\cos{\\left(y \\right)} \\cos{\\left(z \\right)} & \\sin{\\left(x \\right)} \\sin{\\left(y \\right)} \\cos{\\left(z \\right)} - \\sin{\\left(z \\right)} \\cos{\\left(x \\right)} & \\sin{\\left(x \\right)} \\sin{\\left(z \\right)} + \\sin{\\left(y \\right)} \\cos{\\left(x \\right)} \\cos{\\left(z \\right)}\\\\\\sin{\\left(z \\right)} \\cos{\\left(y \\right)} & \\sin{\\left(x \\right)} \\sin{\\left(y \\right)} \\sin{\\left(z \\right)} + \\cos{\\left(x \\right)} \\cos{\\left(z \\right)} & - \\sin{\\left(x \\right)} \\cos{\\left(z \\right)} + \\sin{\\left(y \\right)} \\sin{\\left(z \\right)} \\cos{\\left(x \\right)}\\\\- \\sin{\\left(y \\right)} & \\sin{\\left(x \\right)} \\cos{\\left(y \\right)} & \\cos{\\left(x \\right)} \\cos{\\left(y \\right)}\\end{matrix}\\right]$"
      ],
      "text/plain": [
       "Matrix([\n",
       "[cos(y)*cos(z), sin(x)*sin(y)*cos(z) - sin(z)*cos(x),  sin(x)*sin(z) + sin(y)*cos(x)*cos(z)],\n",
       "[sin(z)*cos(y), sin(x)*sin(y)*sin(z) + cos(x)*cos(z), -sin(x)*cos(z) + sin(y)*sin(z)*cos(x)],\n",
       "[      -sin(y),                        sin(x)*cos(y),                         cos(x)*cos(y)]])"
      ]
     },
     "execution_count": 6,
     "metadata": {},
     "output_type": "execute_result"
    }
   ],
   "source": [
    "# body to inertial is the transpose\n",
    "R321.T"
   ]
  },
  {
   "cell_type": "code",
   "execution_count": 7,
   "id": "81a3527b-9c3a-46f2-9c3c-4012bcac3fc9",
   "metadata": {},
   "outputs": [
    {
     "data": {
      "text/latex": [
       "$\\displaystyle \\left[\\begin{matrix}\\cos{\\left(y \\right)} \\cos{\\left(z \\right)} & \\sin{\\left(x \\right)} \\sin{\\left(y \\right)} \\cos{\\left(z \\right)} - \\sin{\\left(z \\right)} \\cos{\\left(x \\right)} & \\sin{\\left(x \\right)} \\sin{\\left(z \\right)} + \\sin{\\left(y \\right)} \\cos{\\left(x \\right)} \\cos{\\left(z \\right)}\\\\\\sin{\\left(z \\right)} \\cos{\\left(y \\right)} & \\sin{\\left(x \\right)} \\sin{\\left(y \\right)} \\sin{\\left(z \\right)} + \\cos{\\left(x \\right)} \\cos{\\left(z \\right)} & - \\sin{\\left(x \\right)} \\cos{\\left(z \\right)} + \\sin{\\left(y \\right)} \\sin{\\left(z \\right)} \\cos{\\left(x \\right)}\\\\- \\sin{\\left(y \\right)} & \\sin{\\left(x \\right)} \\cos{\\left(y \\right)} & \\cos{\\left(x \\right)} \\cos{\\left(y \\right)}\\end{matrix}\\right]$"
      ],
      "text/plain": [
       "Matrix([\n",
       "[cos(y)*cos(z), sin(x)*sin(y)*cos(z) - sin(z)*cos(x),  sin(x)*sin(z) + sin(y)*cos(x)*cos(z)],\n",
       "[sin(z)*cos(y), sin(x)*sin(y)*sin(z) + cos(x)*cos(z), -sin(x)*cos(z) + sin(y)*sin(z)*cos(x)],\n",
       "[      -sin(y),                        sin(x)*cos(y),                         cos(x)*cos(y)]])"
      ]
     },
     "execution_count": 7,
     "metadata": {},
     "output_type": "execute_result"
    }
   ],
   "source": [
    "# this can also be done by taking the transpose of the rearranged \n",
    "# rotation matricies ... interesting\n",
    "Matrix(Rz.T @ Ry.T @ Rx.T)"
   ]
  },
  {
   "cell_type": "markdown",
   "id": "1bd7b108-136e-4e35-846d-8491d10b7e82",
   "metadata": {},
   "source": [
    "## Quaternions\n",
    "\n",
    "This is a Hamilton quaternion and is composed of a real part (w) and an imaginary part (x,y,z). Just like typical complex numbers in mathematics."
   ]
  },
  {
   "cell_type": "code",
   "execution_count": 8,
   "id": "300dce93-f5e7-449e-86fa-6692e84c0558",
   "metadata": {},
   "outputs": [],
   "source": [
    "qx = pyquat(cos(x/2),sin(x/2),       0,      0)\n",
    "qy = pyquat(cos(y/2),       0,sin(y/2),      0)\n",
    "qz = pyquat(cos(z/2),       0,       0,sin(z/2))"
   ]
  },
  {
   "cell_type": "code",
   "execution_count": 10,
   "id": "870c92e8-e717-4763-8359-96111d2aa0a1",
   "metadata": {},
   "outputs": [],
   "source": [
    "q321=qz*qy*qx"
   ]
  },
  {
   "cell_type": "code",
   "execution_count": 11,
   "id": "71587ef9-e4c6-402d-ac78-41bf2f96070a",
   "metadata": {},
   "outputs": [
    {
     "name": "stdout",
     "output_type": "stream",
     "text": [
      "q.w:  sin(x/2)*sin(y/2)*sin(z/2) + cos(x/2)*cos(y/2)*cos(z/2)\n",
      "q.x:  sin(x/2)*cos(y/2)*cos(z/2) - sin(y/2)*sin(z/2)*cos(x/2)\n",
      "q.y:  sin(x/2)*sin(z/2)*cos(y/2) + sin(y/2)*cos(x/2)*cos(z/2)\n",
      "q.z:  -sin(x/2)*sin(y/2)*cos(z/2) + sin(z/2)*cos(x/2)*cos(y/2)\n"
     ]
    }
   ],
   "source": [
    "print(\"q.w: \",q321.w)\n",
    "print(\"q.x: \",q321.x)\n",
    "print(\"q.y: \",q321.y)\n",
    "print(\"q.z: \",q321.z)"
   ]
  },
  {
   "cell_type": "code",
   "execution_count": 12,
   "id": "4a3689bf-dd51-4ba7-968d-894c7f69ad10",
   "metadata": {},
   "outputs": [
    {
     "name": "stdout",
     "output_type": "stream",
     "text": [
      "atan2(0.5*sin(x - y) + 0.5*sin(x + y), 0.5*cos(x - y) + 0.5*cos(x + y))\n",
      "asin(1.0*sin(y))\n",
      "atan2(-0.5*sin(y - z) + 0.5*sin(y + z), 0.5*cos(y - z) + 0.5*cos(y + z))\n"
     ]
    }
   ],
   "source": [
    "euler = np.array(q321.to_euler())\n",
    "print(simplify(euler[0]))\n",
    "print(simplify(euler[1]))\n",
    "print(simplify(euler[2]))"
   ]
  },
  {
   "cell_type": "markdown",
   "id": "bfd3dc73-5604-40cf-8b0f-5a04d5a7cc31",
   "metadata": {},
   "source": [
    "## Compare R321 to q321\n",
    "\n",
    "To compare we will look at the rotation matrix (DCM) that they produce. This is sort the of the \"universal key\" between the two forms."
   ]
  },
  {
   "cell_type": "code",
   "execution_count": 13,
   "id": "15f079b6-ef54-416c-88a8-9898c1ed5f33",
   "metadata": {},
   "outputs": [
    {
     "data": {
      "text/latex": [
       "$\\displaystyle \\left[\\begin{matrix}\\frac{\\cos{\\left(y - z \\right)}}{2} + \\frac{\\cos{\\left(y + z \\right)}}{2} & \\sin{\\left(x \\right)} \\sin{\\left(y \\right)} \\cos{\\left(z \\right)} - \\sin{\\left(z \\right)} \\cos{\\left(x \\right)} & \\sin{\\left(x \\right)} \\sin{\\left(z \\right)} + \\sin{\\left(y \\right)} \\cos{\\left(x \\right)} \\cos{\\left(z \\right)}\\\\- \\frac{\\sin{\\left(y - z \\right)}}{2} + \\frac{\\sin{\\left(y + z \\right)}}{2} & \\frac{\\sin{\\left(- x + y + z \\right)}}{4} + \\frac{\\sin{\\left(x - y + z \\right)}}{4} + \\frac{\\sin{\\left(x + y - z \\right)}}{4} - \\frac{\\sin{\\left(x + y + z \\right)}}{4} + \\frac{\\cos{\\left(x - z \\right)}}{2} + \\frac{\\cos{\\left(x + z \\right)}}{2} & - \\sin{\\left(x \\right)} \\cos{\\left(z \\right)} + \\sin{\\left(y \\right)} \\sin{\\left(z \\right)} \\cos{\\left(x \\right)}\\\\- \\sin{\\left(y \\right)} & \\frac{\\sin{\\left(x - y \\right)}}{2} + \\frac{\\sin{\\left(x + y \\right)}}{2} & \\frac{\\cos{\\left(x - y \\right)}}{2} + \\frac{\\cos{\\left(x + y \\right)}}{2}\\end{matrix}\\right]$"
      ],
      "text/plain": [
       "[[cos(y - z)/2 + cos(y + z)/2, sin(x)*sin(y)*cos(z) - sin(z)*cos(x), sin(x)*sin(z) + sin(y)*cos(x)*cos(z)], [-sin(y - z)/2 + sin(y + z)/2, sin(-x + y + z)/4 + sin(x - y + z)/4 + sin(x + y - z)/4 - sin(x + y + z)/4 + cos(x - z)/2 + cos(x + z)/2, -sin(x)*cos(z) + sin(y)*sin(z)*cos(x)], [-sin(y), sin(x - y)/2 + sin(x + y)/2, cos(x - y)/2 + cos(x + y)/2]]"
      ]
     },
     "execution_count": 13,
     "metadata": {},
     "output_type": "execute_result"
    }
   ],
   "source": [
    "rot = np.array(q321.to_rot())\n",
    "rot = simplify(rot)\n",
    "rot"
   ]
  },
  {
   "cell_type": "code",
   "execution_count": 24,
   "id": "63628c2a-8972-4872-a174-3ffe46f6a037",
   "metadata": {},
   "outputs": [
    {
     "data": {
      "text/latex": [
       "$\\displaystyle \\left[\\begin{matrix}0.572061402817684 & -0.789312333510914 & 0.223006259046285\\\\0.415626937777453 & 0.044565010575065 & -0.908442738110763\\\\0.707106781186547 & 0.612372435695794 & 0.353553390593274\\end{matrix}\\right]$"
      ],
      "text/plain": [
       "[[0.572061402817684, -0.789312333510914, 0.223006259046285], [0.415626937777453, 0.044565010575065, -0.908442738110763], [0.707106781186547, 0.612372435695794, 0.353553390593274]]"
      ]
     },
     "execution_count": 24,
     "metadata": {},
     "output_type": "execute_result"
    }
   ],
   "source": [
    "# this is from rotating body to fixed frame\n",
    "qR = rot.subs(x,np.pi/3).subs(y,-np.pi/4).subs(z,np.pi/5)\n",
    "qR"
   ]
  },
  {
   "cell_type": "code",
   "execution_count": 25,
   "id": "424aea68-6213-4db8-99e6-3c57505fdc2f",
   "metadata": {},
   "outputs": [
    {
     "data": {
      "text/latex": [
       "$\\displaystyle \\left[\\begin{matrix}0.572061402817684 & 0.415626937777453 & 0.707106781186547\\\\-0.789312333510914 & 0.044565010575065 & 0.612372435695795\\\\0.223006259046285 & -0.908442738110763 & 0.353553390593274\\end{matrix}\\right]$"
      ],
      "text/plain": [
       "Matrix([\n",
       "[ 0.572061402817684,  0.415626937777453, 0.707106781186547],\n",
       "[-0.789312333510914,  0.044565010575065, 0.612372435695795],\n",
       "[ 0.223006259046285, -0.908442738110763, 0.353553390593274]])"
      ]
     },
     "execution_count": 25,
     "metadata": {},
     "output_type": "execute_result"
    }
   ],
   "source": [
    "# this is from fixed frame to rotating body\n",
    "rR = R321.subs(x,np.pi/3).subs(y,-np.pi/4).subs(z,np.pi/5)\n",
    "rR"
   ]
  },
  {
   "cell_type": "code",
   "execution_count": 26,
   "id": "bbb9ece6-a16a-4965-a2eb-ecfb5a82d083",
   "metadata": {},
   "outputs": [
    {
     "data": {
      "text/latex": [
       "$\\displaystyle \\left[\\begin{matrix}0.572061402817684 & -0.789312333510914 & 0.223006259046285\\\\0.415626937777453 & 0.044565010575065 & -0.908442738110763\\\\0.707106781186547 & 0.612372435695795 & 0.353553390593274\\end{matrix}\\right]$"
      ],
      "text/plain": [
       "Matrix([\n",
       "[0.572061402817684, -0.789312333510914,  0.223006259046285],\n",
       "[0.415626937777453,  0.044565010575065, -0.908442738110763],\n",
       "[0.707106781186547,  0.612372435695795,  0.353553390593274]])"
      ]
     },
     "execution_count": 26,
     "metadata": {},
     "output_type": "execute_result"
    }
   ],
   "source": [
    "# the transpose reverses the directions, so now\n",
    "# this is from rotating body to fixed frame. Now\n",
    "# this matches the q321.to_rot() answer (qR)\n",
    "# above ... yay!\n",
    "rR.T"
   ]
  },
  {
   "cell_type": "code",
   "execution_count": null,
   "id": "2d6d05af-124c-4874-a081-67a11b8a49ba",
   "metadata": {},
   "outputs": [],
   "source": []
  }
 ],
 "metadata": {
  "kernelspec": {
   "display_name": "Python 3 (ipykernel)",
   "language": "python",
   "name": "python3"
  },
  "language_info": {
   "codemirror_mode": {
    "name": "ipython",
    "version": 3
   },
   "file_extension": ".py",
   "mimetype": "text/x-python",
   "name": "python",
   "nbconvert_exporter": "python",
   "pygments_lexer": "ipython3",
   "version": "3.11.4"
  }
 },
 "nbformat": 4,
 "nbformat_minor": 5
}
