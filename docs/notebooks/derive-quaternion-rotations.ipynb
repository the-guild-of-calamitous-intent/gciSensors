{
 "cells": [
  {
   "cell_type": "markdown",
   "id": "96deb3b7-e1eb-4b56-a981-ff8c5725d6a9",
   "metadata": {},
   "source": [
    "# Deriving Quaternion Rotation Sequences\n",
    "\n",
    "## R321\n",
    "\n",
    "Individual rotations for roll, pitch and yaw:\n",
    "\n",
    "$$\n",
    "\\begin{align}\n",
    "q_x &= \\begin{bmatrix} \\cos \\frac {roll}{2} & \\sin \\frac {roll}{2} & 0 & 0 \\end{bmatrix} \\\\\n",
    "q_y &= \\begin{bmatrix} \\cos \\frac {pitch}{2} & 0 & \\sin \\frac {pitch}{2} & 0 \\end{bmatrix} \\\\\n",
    "q_z &= \\begin{bmatrix} \\cos \\frac {yaw}{2} & 0 & 0 & \\sin \\frac {yaw}{2} \\end{bmatrix}\n",
    "\\end{align}\n",
    "$$\n",
    "\n",
    "To compose the Aerospace sequence of roll, pitch, then yaw:\n",
    "\n",
    "$$\n",
    "q = q_z q_y q_x\n",
    "$$\n",
    "\n",
    "$$\n",
    "\\begin{array}{rcl}\n",
    "q_w &= \\cos\\frac{yaw}{2} \\cos\\frac{pitch}{2} \\cos\\frac{roll}{2} + \\sin\\frac{yaw}{2} \\sin\\frac{pitch}{2} \\sin\\frac{roll}{2} \\\\ && \\\\\n",
    "q_x &= \\cos\\frac{yaw}{2} \\cos\\frac{pitch}{2} \\sin\\frac{roll}{2} - \\sin\\frac{yaw}{2} \\sin\\frac{pitch}{2} \\cos\\frac{roll}{2} \\\\ && \\\\\n",
    "q_y &= \\cos\\frac{yaw}{2} \\sin\\frac{pitch}{2} \\cos\\frac{roll}{2} + \\sin\\frac{yaw}{2} \\cos\\frac{pitch}{2} \\sin\\frac{roll}{2} \\\\ && \\\\\n",
    "q_z &= \\sin\\frac{yaw}{2} \\cos\\frac{pitch}{2} \\cos\\frac{roll}{2} - \\cos\\frac{yaw}{2} \\sin\\frac{pitch}{2} \\sin\\frac{roll}{2}\n",
    "\\end{array}\n",
    "$$\n",
    "\n",
    "## R313"
   ]
  },
  {
   "cell_type": "code",
   "execution_count": null,
   "id": "20ea5d22-9369-4c0d-b89c-bdd2fe124cf2",
   "metadata": {},
   "outputs": [],
   "source": []
  }
 ],
 "metadata": {
  "kernelspec": {
   "display_name": "Python 3 (ipykernel)",
   "language": "python",
   "name": "python3"
  },
  "language_info": {
   "codemirror_mode": {
    "name": "ipython",
    "version": 3
   },
   "file_extension": ".py",
   "mimetype": "text/x-python",
   "name": "python",
   "nbconvert_exporter": "python",
   "pygments_lexer": "ipython3",
   "version": "3.11.4"
  }
 },
 "nbformat": 4,
 "nbformat_minor": 5
}
