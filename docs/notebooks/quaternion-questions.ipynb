{
 "cells": [
  {
   "cell_type": "markdown",
   "id": "37151e5c-2f01-4648-99aa-9731189f4139",
   "metadata": {},
   "source": [
    "# Quaternion Questions\n",
    "\n",
    "Madgwick had 2 different euler solutions in the code ... comparing them"
   ]
  },
  {
   "cell_type": "code",
   "execution_count": 9,
   "id": "b676d854-3089-400e-8582-d28d3064ad8c",
   "metadata": {},
   "outputs": [],
   "source": [
    "import numpy as np\n",
    "from squaternion import Quaternion\n",
    "from math import asin, atan2, pi"
   ]
  },
  {
   "cell_type": "code",
   "execution_count": 10,
   "id": "0ff6a885-e58b-40f7-a6f7-5a3d09c2a9c8",
   "metadata": {},
   "outputs": [],
   "source": [
    "# original code -- wrong!!\n",
    "def rpy1(q):\n",
    "    q0,q1,q2,q3 = q\n",
    "    p = atan2(2.0 * q2 * q3 - 2.0 * q0 * q1, 2.0 * q0 * q0 + 2.0 * q3 * q3 - 1.0)*180/pi\n",
    "    r = -1.0 * asin(2.0 * q1 * q3 + 2.0 * q0 * q2)*180/pi\n",
    "    y = atan2(2.0 * q1 * q2 - 2.0 * q0 * q3, 2.0 * q0 * q0 + 2.0 * q1 * q1 - 1.0)*180/pi\n",
    "    return r,p,y\n",
    "\n",
    "# newer code\n",
    "# same as ahrs.readthedocs, quaternion, to_angles()\n",
    "# same as wikipedia, https://en.wikipedia.org/wiki/Conversion_between_quaternions_and_Euler_angles\n",
    "def rpy2(q):\n",
    "    q0,q1,q2,q3 = q\n",
    "    r = atan2(q0*q1 + q2*q3, 0.5 - q1*q1 - q2*q2)*180/pi\n",
    "    p = asin(-2.0 * (q1*q3 - q0*q2))*180/pi\n",
    "    y = atan2(q1*q2 + q0*q3, 0.5 - q2*q2 - q3*q3)*180/pi\n",
    "    return r,p,y"
   ]
  },
  {
   "cell_type": "code",
   "execution_count": 14,
   "id": "3c07f0a0-2baf-4f5c-8ebf-1c3b85f39e39",
   "metadata": {},
   "outputs": [
    {
     "name": "stdout",
     "output_type": "stream",
     "text": [
      "Orig:  Quaternion(w=0.8535533905932737, x=0.3535533905932738, y=-0.3535533905932738, z=0.14644660940672624)\n",
      "euler:  (45.00000000000001, -44.99999999999999, -4.497983566394945e-15)\n"
     ]
    }
   ],
   "source": [
    "q = Quaternion.from_euler(45,-45,0,degrees=True)\n",
    "print(\"Orig: \", q)\n",
    "print(\"euler: \", q.to_euler(True))"
   ]
  },
  {
   "cell_type": "code",
   "execution_count": 17,
   "id": "10ef66cc-1777-418c-8adc-b09221c5e1fe",
   "metadata": {},
   "outputs": [
    {
     "name": "stdout",
     "output_type": "stream",
     "text": [
      "rpy1:  (29.999999999999996, -54.735610317245346, -35.264389682754654)\n",
      "rpy2:  (45.0, -44.99999999999999, -4.497983566394944e-15)\n"
     ]
    }
   ],
   "source": [
    "a = rpy1(q)\n",
    "print(\"rpy1: \", a)\n",
    "\n",
    "b = rpy2(q) # this matches my code\n",
    "print(\"rpy2: \", b)"
   ]
  },
  {
   "cell_type": "code",
   "execution_count": null,
   "id": "12608cc4-4aff-4f1a-85bb-dd38d4ce8ce8",
   "metadata": {},
   "outputs": [],
   "source": []
  }
 ],
 "metadata": {
  "kernelspec": {
   "display_name": "Python 3 (ipykernel)",
   "language": "python",
   "name": "python3"
  },
  "language_info": {
   "codemirror_mode": {
    "name": "ipython",
    "version": 3
   },
   "file_extension": ".py",
   "mimetype": "text/x-python",
   "name": "python",
   "nbconvert_exporter": "python",
   "pygments_lexer": "ipython3",
   "version": "3.11.4"
  }
 },
 "nbformat": 4,
 "nbformat_minor": 5
}
